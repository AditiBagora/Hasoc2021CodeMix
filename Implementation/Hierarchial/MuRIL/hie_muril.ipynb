{
  "cells": [
    {
      "cell_type": "code",
      "execution_count": 62,
      "metadata": {
        "id": "iZeea8jHSDAR"
      },
      "outputs": [],
      "source": [
        "import os\n",
        "os.environ[\"CUDA_DEVICE_ORDER\"] = \"PCI_BUS_ID\" \n",
        "os.environ[\"CUDA_VISIBLE_DEVICES\"] = \"1\""
      ]
    },
    {
      "cell_type": "code",
      "execution_count": 63,
      "metadata": {},
      "outputs": [],
      "source": [
        "import warnings\n",
        "warnings.filterwarnings(\"ignore\", category=UserWarning, module='bs4')"
      ]
    },
    {
      "cell_type": "code",
      "execution_count": 64,
      "metadata": {},
      "outputs": [
        {
          "name": "stdout",
          "output_type": "stream",
          "text": [
            "cuda\n"
          ]
        }
      ],
      "source": [
        "import torch\n",
        "import torch.nn as nn\n",
        "device = \"cuda\" if torch.cuda.is_available() else \"cpu\"\n",
        "print(device)"
      ]
    },
    {
      "cell_type": "code",
      "execution_count": 65,
      "metadata": {
        "id": "-mW5GaPQLq9X"
      },
      "outputs": [],
      "source": [
        "import numpy as np\n",
        "import pandas as pd"
      ]
    },
    {
      "cell_type": "code",
      "execution_count": 66,
      "metadata": {
        "id": "M15bUo0w_pF2"
      },
      "outputs": [],
      "source": [
        "pd.set_option('display.max_columns', None)  # or 1000\n",
        "pd.set_option('display.max_rows', None)  # or 1000\n",
        "pd.set_option('display.max_colwidth', None) "
      ]
    },
    {
      "cell_type": "code",
      "execution_count": 67,
      "metadata": {
        "id": "sEYaHlngrGOD"
      },
      "outputs": [],
      "source": [
        "train = pd.read_pickle(\"train_hierarchial.pkl\")"
      ]
    },
    {
      "cell_type": "code",
      "execution_count": 68,
      "metadata": {},
      "outputs": [],
      "source": [
        "train=train.sample(1000)"
      ]
    },
    {
      "cell_type": "code",
      "execution_count": 69,
      "metadata": {
        "id": "-tktq9CtaRxU"
      },
      "outputs": [],
      "source": [
        "post,context, label = train.post.values, train.context, train.label"
      ]
    },
    {
      "cell_type": "code",
      "execution_count": 70,
      "metadata": {},
      "outputs": [],
      "source": [
        "# from transformers import BertModel\n",
        "\n",
        "# from transformers import BertTokenizer, BertModel\n",
        "\n",
        "# tokenizer = BertTokenizer.from_pretrained('bert-base-uncased')\n",
        "# bert = BertModel.from_pretrained('bert-base-uncased')\n",
        "\n",
        "# def bert_representations(sentence):\n",
        "#     input = tokenizer(sentence, return_tensors = \"pt\")\n",
        "#     outputs = bert(**input)\n",
        "#     return outputs.last_hidden_state[:,0,:]"
      ]
    },
    {
      "cell_type": "code",
      "execution_count": 71,
      "metadata": {},
      "outputs": [],
      "source": [
        "import tensorflow as tf\n",
        "import tensorflow_hub as hub\n",
        "\n",
        "from bert import bert_tokenization\n",
        "\n",
        "class MuRIL:\n",
        "    def __init__(self, df, model_name, avg_pooling=False):\n",
        "        self.tokenizer = None\n",
        "        self.model = None\n",
        "        self.tokenized_padded_text = None\n",
        "        self.attention_mask = None\n",
        "        self.textip = None\n",
        "        self.pooledOp = None\n",
        "        self.input_dfs = None\n",
        "        self.data_frame = df\n",
        "        self.feature_df = None\n",
        "        self.model_name = None\n",
        "        self.InitModel(model_name, avg_pooling)\n",
        "\n",
        "    def InitModel(self, model_name, avg_pooling):\n",
        "        \n",
        "        if model_name == 'muril':\n",
        "            self.textip = tf.keras.layers.Input(shape=(), dtype=tf.string)\n",
        "            self.max_seq_length = 128\n",
        "            muril_model, muril_layer = self.init_muril(\n",
        "                model_url=\"https://tfhub.dev/google/MuRIL/1\", max_seq_length=self.max_seq_length,\n",
        "                avg_pooling=avg_pooling)\n",
        "            vocab_file = muril_layer.resolved_object.vocab_file.asset_path.numpy()\n",
        "            do_lower_case = muril_layer.resolved_object.do_lower_case.numpy()\n",
        "            self.tokenizer = bert_tokenization.FullTokenizer(vocab_file, do_lower_case)\n",
        "            self.model_name = 'muril'\n",
        "            self.model = muril_model\n",
        "            self.avg_pooling = avg_pooling\n",
        "\n",
        "    def tokenize(self, column):\n",
        "        tokenized_text = column.apply((lambda x: self.tokenizer.encode(x, add_special_tokens=True)))\n",
        " \n",
        "        max_len = 0\n",
        "        for i in tokenized_text.values:\n",
        "            if len(i) > max_len:\n",
        "                max_len = len(i)\n",
        "\n",
        "        self.tokenized_padded_text = np.array([i + [0]*(max_len-len(i)) for i in tokenized_text.values])\n",
        "        self.create_attention_mask()\n",
        "\n",
        "    def create_attention_mask(self):\n",
        "        self.attention_mask = np.where(self.tokenized_padded_text != 0, 1, 0)\n",
        "        self.input_ids = torch.tensor(self.tokenized_padded_text)\n",
        "        self.attention_mask = torch.tensor(self.attention_mask)\n",
        "\n",
        "    def init_muril(self, model_url, max_seq_length, avg_pooling):\n",
        "        inputs = dict(\n",
        "            input_word_ids=tf.keras.layers.Input(shape=(max_seq_length,), dtype=tf.int32),\n",
        "            input_mask=tf.keras.layers.Input(shape=(max_seq_length,), dtype=tf.int32),\n",
        "            input_type_ids=tf.keras.layers.Input(shape=(max_seq_length,), dtype=tf.int32),\n",
        "        )\n",
        "\n",
        "        muril_layer = hub.KerasLayer(model_url, trainable=True)\n",
        "        outputs = muril_layer(inputs)\n",
        "        print(outputs)\n",
        "        assert 'sequence_output' in outputs\n",
        "        assert 'pooled_output' in outputs\n",
        "        assert 'encoder_outputs' in outputs\n",
        "        assert 'default' in outputs\n",
        "        if avg_pooling:\n",
        "            return tf.keras.Model(inputs=inputs, outputs=outputs[\"encoder_outputs\"]), muril_layer\n",
        "        else:\n",
        "            return tf.keras.Model(inputs=inputs, outputs=outputs[\"pooled_output\"]), muril_layer\n",
        "\n",
        "    def create_input(self, input_strings, tokenizer, max_seq_length):\n",
        "        input_ids_all, input_mask_all, input_type_ids_all = [], [], []\n",
        "        for input_string in input_strings:\n",
        "            input_tokens = [\"[CLS]\"] + tokenizer.tokenize(input_string) + [\"[SEP]\"]\n",
        "            input_ids = tokenizer.convert_tokens_to_ids(input_tokens)\n",
        "            sequence_length = min(len(input_ids), max_seq_length)\n",
        "\n",
        "            if len(input_ids) >= max_seq_length:\n",
        "                input_ids = input_ids[:max_seq_length]\n",
        "            else:\n",
        "                input_ids = input_ids + [0] * (max_seq_length - len(input_ids))\n",
        "\n",
        "            input_mask = [1] * sequence_length + [0] * (max_seq_length - sequence_length)\n",
        "\n",
        "            input_ids_all.append(input_ids)\n",
        "            input_mask_all.append(input_mask)\n",
        "            input_type_ids_all.append([0] * max_seq_length)\n",
        "\n",
        "        return np.array(input_ids_all), np.array(input_mask_all), np.array(input_type_ids_all)\n",
        "\n",
        "    def encode(self, input_text):\n",
        "        input_ids, input_mask, input_type_ids = self.create_input(input_text,\n",
        "                                                                  self.tokenizer,\n",
        "                                                                  self.max_seq_length)\n",
        "        inputs = dict(\n",
        "            input_word_ids=input_ids,\n",
        "            input_mask=input_mask,\n",
        "            input_type_ids=input_type_ids,\n",
        "        )\n",
        "        return self.model(inputs)\n",
        "\n",
        "    def GetFeatures(self, input=None):\n",
        "        if self.model_name != 'muril':\n",
        "            with torch.no_grad():\n",
        "                last_hidden_states = self.model(self.input_ids, attention_mask=self.attention_mask)\n",
        "            last_hidden_states['last_hidden_state'].size()\n",
        "            self.features = last_hidden_states[0][:, 0, :].numpy()\n",
        "            self.features = pd.DataFrame(self.features)\n",
        "            \n",
        "        elif self.model_name == 'muril':\n",
        "            embeddings = self.encode(input)\n",
        "            if not self.avg_pooling:\n",
        "                self.features = pd.DataFrame(embeddings.numpy())\n",
        "            else:\n",
        "                f1 = embeddings[7][:, 0, :].numpy()\n",
        "                f2 = embeddings[6][:, 0, :].numpy()\n",
        "                f3 = embeddings[5][:, 0, :].numpy()\n",
        "                self.features = pd.DataFrame((f1+f2+f3)/3)\n",
        "        return self.features"
      ]
    },
    {
      "cell_type": "code",
      "execution_count": 72,
      "metadata": {
        "id": "GrDBKDToXT3O"
      },
      "outputs": [],
      "source": [
        "class CustomBERTModel(nn.Module):\n",
        "    def __init__(self):\n",
        "          super(CustomBERTModel, self).__init__()\n",
        "     \n",
        "          self.linear1 = nn.Linear(1536, 768)\n",
        "          self.linear2 = nn.Linear(768, 300)\n",
        "          self.linear3 = nn.Linear(1068, 768)\n",
        "          self.linear4 = nn.Linear(768,2)\n",
        "          self.outputlayer = nn.Softmax(dim=1)\n",
        "\n",
        "    def concatenate(self, tensor1, tensor2):\n",
        "      return torch.cat((tensor1, tensor2), 1)\n",
        "      \n",
        "    def forward(self, post=None, context=None, text=None, only_post = False, post_context=False, post_context_text=False):\n",
        "\n",
        "      if only_post:\n",
        "        input_post_embeddings = post\n",
        "        \n",
        "        linear4_output = self.linear4(input_post_embeddings)\n",
        "\n",
        "        outputs = self.outputlayer(linear4_output)\n",
        "\n",
        "      if post_context:\n",
        "\n",
        "        input_post_embeddings = post\n",
        "\n",
        "        input_context_embeddings = context\n",
        "\n",
        "        post_context = self.concatenate(input_post_embeddings, input_context_embeddings)\n",
        "\n",
        "        linear1_output = self.linear1(post_context)\n",
        "\n",
        "        linear4_output = self.linear4(linear1_output)\n",
        "\n",
        "        outputs = self.outputlayer(linear4_output)\n",
        "\n",
        "      if post_context_text:\n",
        "\n",
        "        input_post_embeddings = post\n",
        "\n",
        "        input_context_embeddings = context\n",
        "\n",
        "        input_text_embeddings = text\n",
        "\n",
        "        context_text = self.concatenate(input_context_embeddings, input_post_embeddings)\n",
        "\n",
        "        linear1_output = self.linear1(context_text)\n",
        "\n",
        "        linear2_output = self.linear2(linear1_output)\n",
        "\n",
        "        post_context_text = self.concatenate(input_text_embeddings, linear2_output)\n",
        "\n",
        "        linear3_output = self.linear3(post_context_text)\n",
        "\n",
        "        linear4_output = self.linear4(linear3_output)\n",
        "\n",
        "        outputs = self.outputlayer(linear4_output)\n",
        "\n",
        "      return outputs"
      ]
    },
    {
      "cell_type": "code",
      "execution_count": 73,
      "metadata": {
        "colab": {
          "base_uri": "https://localhost:8080/"
        },
        "id": "SESSD0_Ewj54",
        "outputId": "631c15ae-27b8-4ebe-98ef-3bdc2a704bbf"
      },
      "outputs": [],
      "source": [
        "model = CustomBERTModel()"
      ]
    },
    {
      "cell_type": "code",
      "execution_count": 74,
      "metadata": {
        "colab": {
          "base_uri": "https://localhost:8080/"
        },
        "id": "aevqgxsLwcfF",
        "outputId": "c5f5731f-82f3-4261-94fb-00f2a6010126"
      },
      "outputs": [
        {
          "name": "stdout",
          "output_type": "stream",
          "text": [
            "The BERT model has 8 different named parameters.\n",
            "\n",
            "==== Embedding Layer ====\n",
            "\n",
            "linear1.weight                                           (768, 1536)\n",
            "linear1.bias                                                  (768,)\n",
            "linear2.weight                                            (300, 768)\n",
            "linear2.bias                                                  (300,)\n",
            "linear3.weight                                           (768, 1068)\n",
            "\n",
            "==== First Transformer ====\n",
            "\n",
            "linear3.bias                                                  (768,)\n",
            "linear4.weight                                              (2, 768)\n",
            "linear4.bias                                                    (2,)\n",
            "\n",
            "==== Output Layer ====\n",
            "\n",
            "linear1.bias                                                  (768,)\n",
            "linear2.weight                                            (300, 768)\n",
            "linear2.bias                                                  (300,)\n",
            "linear3.weight                                           (768, 1068)\n",
            "linear3.bias                                                  (768,)\n",
            "linear4.weight                                              (2, 768)\n",
            "linear4.bias                                                    (2,)\n"
          ]
        }
      ],
      "source": [
        "# Get all of the model's parameters as a list of tuples.\n",
        "params = list(model.named_parameters())\n",
        "\n",
        "print('The BERT model has {:} different named parameters.\\n'.format(len(params)))\n",
        "\n",
        "print('==== Embedding Layer ====\\n')\n",
        "\n",
        "for p in params[0:5]:\n",
        "    print(\"{:<55} {:>12}\".format(p[0], str(tuple(p[1].size()))))\n",
        "\n",
        "print('\\n==== First Transformer ====\\n')\n",
        "\n",
        "for p in params[5:21]:\n",
        "    print(\"{:<55} {:>12}\".format(p[0], str(tuple(p[1].size()))))\n",
        "\n",
        "print('\\n==== Output Layer ====\\n')\n",
        "\n",
        "for p in params[-7:]:\n",
        "    print(\"{:<55} {:>12}\".format(p[0], str(tuple(p[1].size()))))"
      ]
    },
    {
      "cell_type": "code",
      "execution_count": 75,
      "metadata": {},
      "outputs": [],
      "source": [
        "learning_rate = 1e-3\n",
        "epochs = 4\n",
        "\n",
        "criterion = nn.CrossEntropyLoss()\n",
        "\n",
        "optimizer = torch.optim.AdamW(filter(lambda p: p.requires_grad, model.parameters()), lr=learning_rate)"
      ]
    },
    {
      "cell_type": "code",
      "execution_count": 76,
      "metadata": {},
      "outputs": [
        {
          "ename": "RuntimeError",
          "evalue": "CUDA error: out of memory",
          "output_type": "error",
          "traceback": [
            "\u001b[0;31m---------------------------------------------------------------------------\u001b[0m",
            "\u001b[0;31mRuntimeError\u001b[0m                              Traceback (most recent call last)",
            "\u001b[0;32m/tmp/ipykernel_3670149/2331308635.py\u001b[0m in \u001b[0;36m<module>\u001b[0;34m\u001b[0m\n\u001b[0;32m----> 1\u001b[0;31m \u001b[0mmodel\u001b[0m \u001b[0;34m=\u001b[0m \u001b[0mmodel\u001b[0m\u001b[0;34m.\u001b[0m\u001b[0mto\u001b[0m\u001b[0;34m(\u001b[0m\u001b[0mdevice\u001b[0m\u001b[0;34m)\u001b[0m\u001b[0;34m\u001b[0m\u001b[0;34m\u001b[0m\u001b[0m\n\u001b[0m",
            "\u001b[0;32m/raid/cs18resch11003/anaconda3/envs/aditi/lib/python3.8/site-packages/torch/nn/modules/module.py\u001b[0m in \u001b[0;36mto\u001b[0;34m(self, *args, **kwargs)\u001b[0m\n\u001b[1;32m    671\u001b[0m             \u001b[0;32mreturn\u001b[0m \u001b[0mt\u001b[0m\u001b[0;34m.\u001b[0m\u001b[0mto\u001b[0m\u001b[0;34m(\u001b[0m\u001b[0mdevice\u001b[0m\u001b[0;34m,\u001b[0m \u001b[0mdtype\u001b[0m \u001b[0;32mif\u001b[0m \u001b[0mt\u001b[0m\u001b[0;34m.\u001b[0m\u001b[0mis_floating_point\u001b[0m\u001b[0;34m(\u001b[0m\u001b[0;34m)\u001b[0m \u001b[0;32mor\u001b[0m \u001b[0mt\u001b[0m\u001b[0;34m.\u001b[0m\u001b[0mis_complex\u001b[0m\u001b[0;34m(\u001b[0m\u001b[0;34m)\u001b[0m \u001b[0;32melse\u001b[0m \u001b[0;32mNone\u001b[0m\u001b[0;34m,\u001b[0m \u001b[0mnon_blocking\u001b[0m\u001b[0;34m)\u001b[0m\u001b[0;34m\u001b[0m\u001b[0;34m\u001b[0m\u001b[0m\n\u001b[1;32m    672\u001b[0m \u001b[0;34m\u001b[0m\u001b[0m\n\u001b[0;32m--> 673\u001b[0;31m         \u001b[0;32mreturn\u001b[0m \u001b[0mself\u001b[0m\u001b[0;34m.\u001b[0m\u001b[0m_apply\u001b[0m\u001b[0;34m(\u001b[0m\u001b[0mconvert\u001b[0m\u001b[0;34m)\u001b[0m\u001b[0;34m\u001b[0m\u001b[0;34m\u001b[0m\u001b[0m\n\u001b[0m\u001b[1;32m    674\u001b[0m \u001b[0;34m\u001b[0m\u001b[0m\n\u001b[1;32m    675\u001b[0m     def register_backward_hook(\n",
            "\u001b[0;32m/raid/cs18resch11003/anaconda3/envs/aditi/lib/python3.8/site-packages/torch/nn/modules/module.py\u001b[0m in \u001b[0;36m_apply\u001b[0;34m(self, fn)\u001b[0m\n\u001b[1;32m    385\u001b[0m     \u001b[0;32mdef\u001b[0m \u001b[0m_apply\u001b[0m\u001b[0;34m(\u001b[0m\u001b[0mself\u001b[0m\u001b[0;34m,\u001b[0m \u001b[0mfn\u001b[0m\u001b[0;34m)\u001b[0m\u001b[0;34m:\u001b[0m\u001b[0;34m\u001b[0m\u001b[0;34m\u001b[0m\u001b[0m\n\u001b[1;32m    386\u001b[0m         \u001b[0;32mfor\u001b[0m \u001b[0mmodule\u001b[0m \u001b[0;32min\u001b[0m \u001b[0mself\u001b[0m\u001b[0;34m.\u001b[0m\u001b[0mchildren\u001b[0m\u001b[0;34m(\u001b[0m\u001b[0;34m)\u001b[0m\u001b[0;34m:\u001b[0m\u001b[0;34m\u001b[0m\u001b[0;34m\u001b[0m\u001b[0m\n\u001b[0;32m--> 387\u001b[0;31m             \u001b[0mmodule\u001b[0m\u001b[0;34m.\u001b[0m\u001b[0m_apply\u001b[0m\u001b[0;34m(\u001b[0m\u001b[0mfn\u001b[0m\u001b[0;34m)\u001b[0m\u001b[0;34m\u001b[0m\u001b[0;34m\u001b[0m\u001b[0m\n\u001b[0m\u001b[1;32m    388\u001b[0m \u001b[0;34m\u001b[0m\u001b[0m\n\u001b[1;32m    389\u001b[0m         \u001b[0;32mdef\u001b[0m \u001b[0mcompute_should_use_set_data\u001b[0m\u001b[0;34m(\u001b[0m\u001b[0mtensor\u001b[0m\u001b[0;34m,\u001b[0m \u001b[0mtensor_applied\u001b[0m\u001b[0;34m)\u001b[0m\u001b[0;34m:\u001b[0m\u001b[0;34m\u001b[0m\u001b[0;34m\u001b[0m\u001b[0m\n",
            "\u001b[0;32m/raid/cs18resch11003/anaconda3/envs/aditi/lib/python3.8/site-packages/torch/nn/modules/module.py\u001b[0m in \u001b[0;36m_apply\u001b[0;34m(self, fn)\u001b[0m\n\u001b[1;32m    407\u001b[0m                 \u001b[0;31m# `with torch.no_grad():`\u001b[0m\u001b[0;34m\u001b[0m\u001b[0;34m\u001b[0m\u001b[0;34m\u001b[0m\u001b[0m\n\u001b[1;32m    408\u001b[0m                 \u001b[0;32mwith\u001b[0m \u001b[0mtorch\u001b[0m\u001b[0;34m.\u001b[0m\u001b[0mno_grad\u001b[0m\u001b[0;34m(\u001b[0m\u001b[0;34m)\u001b[0m\u001b[0;34m:\u001b[0m\u001b[0;34m\u001b[0m\u001b[0;34m\u001b[0m\u001b[0m\n\u001b[0;32m--> 409\u001b[0;31m                     \u001b[0mparam_applied\u001b[0m \u001b[0;34m=\u001b[0m \u001b[0mfn\u001b[0m\u001b[0;34m(\u001b[0m\u001b[0mparam\u001b[0m\u001b[0;34m)\u001b[0m\u001b[0;34m\u001b[0m\u001b[0;34m\u001b[0m\u001b[0m\n\u001b[0m\u001b[1;32m    410\u001b[0m                 \u001b[0mshould_use_set_data\u001b[0m \u001b[0;34m=\u001b[0m \u001b[0mcompute_should_use_set_data\u001b[0m\u001b[0;34m(\u001b[0m\u001b[0mparam\u001b[0m\u001b[0;34m,\u001b[0m \u001b[0mparam_applied\u001b[0m\u001b[0;34m)\u001b[0m\u001b[0;34m\u001b[0m\u001b[0;34m\u001b[0m\u001b[0m\n\u001b[1;32m    411\u001b[0m                 \u001b[0;32mif\u001b[0m \u001b[0mshould_use_set_data\u001b[0m\u001b[0;34m:\u001b[0m\u001b[0;34m\u001b[0m\u001b[0;34m\u001b[0m\u001b[0m\n",
            "\u001b[0;32m/raid/cs18resch11003/anaconda3/envs/aditi/lib/python3.8/site-packages/torch/nn/modules/module.py\u001b[0m in \u001b[0;36mconvert\u001b[0;34m(t)\u001b[0m\n\u001b[1;32m    669\u001b[0m                 return t.to(device, dtype if t.is_floating_point() or t.is_complex() else None,\n\u001b[1;32m    670\u001b[0m                             non_blocking, memory_format=convert_to_format)\n\u001b[0;32m--> 671\u001b[0;31m             \u001b[0;32mreturn\u001b[0m \u001b[0mt\u001b[0m\u001b[0;34m.\u001b[0m\u001b[0mto\u001b[0m\u001b[0;34m(\u001b[0m\u001b[0mdevice\u001b[0m\u001b[0;34m,\u001b[0m \u001b[0mdtype\u001b[0m \u001b[0;32mif\u001b[0m \u001b[0mt\u001b[0m\u001b[0;34m.\u001b[0m\u001b[0mis_floating_point\u001b[0m\u001b[0;34m(\u001b[0m\u001b[0;34m)\u001b[0m \u001b[0;32mor\u001b[0m \u001b[0mt\u001b[0m\u001b[0;34m.\u001b[0m\u001b[0mis_complex\u001b[0m\u001b[0;34m(\u001b[0m\u001b[0;34m)\u001b[0m \u001b[0;32melse\u001b[0m \u001b[0;32mNone\u001b[0m\u001b[0;34m,\u001b[0m \u001b[0mnon_blocking\u001b[0m\u001b[0;34m)\u001b[0m\u001b[0;34m\u001b[0m\u001b[0;34m\u001b[0m\u001b[0m\n\u001b[0m\u001b[1;32m    672\u001b[0m \u001b[0;34m\u001b[0m\u001b[0m\n\u001b[1;32m    673\u001b[0m         \u001b[0;32mreturn\u001b[0m \u001b[0mself\u001b[0m\u001b[0;34m.\u001b[0m\u001b[0m_apply\u001b[0m\u001b[0;34m(\u001b[0m\u001b[0mconvert\u001b[0m\u001b[0;34m)\u001b[0m\u001b[0;34m\u001b[0m\u001b[0;34m\u001b[0m\u001b[0m\n",
            "\u001b[0;31mRuntimeError\u001b[0m: CUDA error: out of memory"
          ]
        }
      ],
      "source": [
        "model = model.to(device)"
      ]
    },
    {
      "cell_type": "code",
      "execution_count": null,
      "metadata": {},
      "outputs": [],
      "source": [
        "muril = MuRIL(train,model_name='muril',avg_pooling=True)"
      ]
    },
    {
      "cell_type": "code",
      "execution_count": 31,
      "metadata": {
        "colab": {
          "base_uri": "https://localhost:8080/"
        },
        "id": "qMYqxSVFw0r4",
        "outputId": "cfd1e3bd-068a-4394-ec54-861612940737"
      },
      "outputs": [
        {
          "name": "stdout",
          "output_type": "stream",
          "text": [
            "Training....\n",
            "==========Epochs:0===========\n"
          ]
        },
        {
          "ename": "NameError",
          "evalue": "name 'muril' is not defined",
          "output_type": "error",
          "traceback": [
            "\u001b[0;31m---------------------------------------------------------------------------\u001b[0m",
            "\u001b[0;31mNameError\u001b[0m                                 Traceback (most recent call last)",
            "\u001b[0;32m/tmp/ipykernel_3670149/3020366613.py\u001b[0m in \u001b[0;36m<module>\u001b[0;34m\u001b[0m\n\u001b[1;32m     28\u001b[0m       \u001b[0;32mif\u001b[0m \u001b[0mpost\u001b[0m\u001b[0;34m!=\u001b[0m\u001b[0;34m\"\"\u001b[0m \u001b[0;32mand\u001b[0m \u001b[0mcontext\u001b[0m\u001b[0;34m!=\u001b[0m\u001b[0;34m\"\"\u001b[0m \u001b[0;32mand\u001b[0m \u001b[0mtext\u001b[0m\u001b[0;34m!=\u001b[0m\u001b[0;34m\"\"\u001b[0m\u001b[0;34m:\u001b[0m\u001b[0;34m\u001b[0m\u001b[0;34m\u001b[0m\u001b[0m\n\u001b[1;32m     29\u001b[0m \u001b[0;34m\u001b[0m\u001b[0m\n\u001b[0;32m---> 30\u001b[0;31m         \u001b[0minput_post\u001b[0m\u001b[0;34m=\u001b[0m\u001b[0mmuril\u001b[0m\u001b[0;34m.\u001b[0m\u001b[0mGetFeatures\u001b[0m\u001b[0;34m(\u001b[0m\u001b[0;34m[\u001b[0m\u001b[0mpost\u001b[0m\u001b[0;34m]\u001b[0m\u001b[0;34m)\u001b[0m\u001b[0;34m.\u001b[0m\u001b[0miloc\u001b[0m\u001b[0;34m[\u001b[0m\u001b[0;36m0\u001b[0m\u001b[0;34m]\u001b[0m\u001b[0;34m.\u001b[0m\u001b[0mto_list\u001b[0m\u001b[0;34m(\u001b[0m\u001b[0;34m)\u001b[0m\u001b[0;34m\u001b[0m\u001b[0;34m\u001b[0m\u001b[0m\n\u001b[0m\u001b[1;32m     31\u001b[0m         \u001b[0minput_post\u001b[0m \u001b[0;34m=\u001b[0m \u001b[0mtorch\u001b[0m\u001b[0;34m.\u001b[0m\u001b[0mTensor\u001b[0m\u001b[0;34m(\u001b[0m\u001b[0;34m[\u001b[0m\u001b[0minput_post\u001b[0m\u001b[0;34m]\u001b[0m\u001b[0;34m)\u001b[0m\u001b[0;34m.\u001b[0m\u001b[0mto\u001b[0m\u001b[0;34m(\u001b[0m\u001b[0mdevice\u001b[0m\u001b[0;34m)\u001b[0m\u001b[0;34m\u001b[0m\u001b[0;34m\u001b[0m\u001b[0m\n\u001b[1;32m     32\u001b[0m \u001b[0;34m\u001b[0m\u001b[0m\n",
            "\u001b[0;31mNameError\u001b[0m: name 'muril' is not defined"
          ]
        }
      ],
      "source": [
        "print(\"Training....\")\n",
        "\n",
        "for epoch in range(epochs):\n",
        "    total_train_loss=0\n",
        "\n",
        "    print(\"==========Epochs:{}===========\".format(epoch)) \n",
        "\n",
        "    for post, context,text, label in zip(train[\"post\"], train[\"context\"], train[\"text\"], train[\"label\"]):\n",
        "\n",
        "      if post!=\"\" and context==\"\" and text==\"\":\n",
        "\n",
        "        input_post=muril.GetFeatures([post]).iloc[0].to_list()\n",
        "        input_post = torch.FloatTensor([input_post]).to(device)\n",
        "\n",
        "        logits = model(input_post, only_post=True)\n",
        "        \n",
        "\n",
        "      if post!=\"\" and context!=\"\" and text==\"\":\n",
        "\n",
        "        input_post=muril.GetFeatures([post]).iloc[0].to_list()\n",
        "        input_post = torch.FloatTensor([input_post]).to(device)\n",
        "\n",
        "        input_context=muril.GetFeatures([context]).iloc[0].to_list()\n",
        "        input_context = torch.FloatTensor([input_context]).to(device)\n",
        "\n",
        "        logits = model(input_post, input_context,post_context=True)\n",
        "\n",
        "      if post!=\"\" and context!=\"\" and text!=\"\":\n",
        "\n",
        "        input_post=muril.GetFeatures([post]).iloc[0].to_list()\n",
        "        input_post = torch.Tensor([input_post]).to(device)\n",
        "\n",
        "        input_context=muril.GetFeatures([context]).iloc[0].to_list()\n",
        "        input_context = torch.Tensor([input_context]).to(device)\n",
        "\n",
        "        input_text=muril.GetFeatures([text]).iloc[0].to_list()\n",
        "        input_text = torch.Tensor([input_text]).to(device)\n",
        "\n",
        "        logits = model(input_post, input_context,input_text, post_context_text=True)\n",
        "       \n",
        "      print(logits)\n",
        "\n",
        "      one_hot = torch.zeros(1, 2)\n",
        "\n",
        "      one_hot[0, label] = 1.\n",
        "\n",
        "      one_hot = one_hot.to(device)\n",
        "        \n",
        "      loss = criterion(input = logits, target = one_hot)\n",
        "\n",
        "      optimizer.zero_grad()\n",
        "\n",
        "      loss.backward()\n",
        "\n",
        "      optimizer.step()\n",
        "\n",
        "      total_train_loss += loss\n",
        "      \n",
        "      torch.save(model.state_dict(), \"rev_muril_model_adamw.pth\")\n",
        "    print(\"Training Loss: {}\".format((total_train_loss/len(train)).item()))"
      ]
    },
    {
      "cell_type": "code",
      "execution_count": null,
      "metadata": {
        "id": "Q4eal1WVJjn5"
      },
      "outputs": [],
      "source": [
        "torch.save(model.state_dict(), \"rev_muril_model_adamw.pth\")"
      ]
    },
    {
      "cell_type": "code",
      "execution_count": null,
      "metadata": {
        "colab": {
          "base_uri": "https://localhost:8080/"
        },
        "id": "YIO3AMCzJmqV",
        "outputId": "2d8ae893-99b1-4d59-93c6-4e3317621bce"
      },
      "outputs": [],
      "source": [
        "model = CustomBERTModel()\n",
        "model.load_state_dict(torch.load(\"muril_model_adamw.pth\"))"
      ]
    },
    {
      "cell_type": "code",
      "execution_count": null,
      "metadata": {
        "id": "IZeFBkSkrnve"
      },
      "outputs": [],
      "source": [
        "# Testing Setup"
      ]
    },
    {
      "cell_type": "code",
      "execution_count": null,
      "metadata": {
        "id": "eiqaw137rAlQ"
      },
      "outputs": [],
      "source": [
        "test = pd.read_pickle(\"test_hierarchial.pkl\")"
      ]
    },
    {
      "cell_type": "code",
      "execution_count": null,
      "metadata": {
        "colab": {
          "base_uri": "https://localhost:8080/"
        },
        "id": "Z6GQh_0walEC",
        "outputId": "5bab1ed4-7b8b-47b5-fdfa-1d803e3e9a35"
      },
      "outputs": [],
      "source": [
        "from sklearn.metrics import accuracy_score, f1_score\n",
        "\n",
        "print(\"Testing....\")\n",
        "\n",
        "predictions = []\n",
        "labels = []\n",
        "\n",
        "model.eval()\n",
        "\n",
        "model=model.to(device)\n",
        "\n",
        "with torch.no_grad():\n",
        "  for post, context, text, label in zip(test[\"post\"], test[\"context\"], test[\"text\"], test[\"label\"]):\n",
        "\n",
        "    if post!=\"\" and context==\"\" and text==\"\":\n",
        "\n",
        "      input_post=muril.GetFeatures([post]).iloc[0].to_list()\n",
        "      input_post = torch.FloatTensor([input_post]).to(device)\n",
        "\n",
        "      logits = model(input_post, only_post=True)\n",
        "        \n",
        "    if post!=\"\" and context!=\"\" and text==\"\":\n",
        "\n",
        "      input_post=muril.GetFeatures([post]).iloc[0].to_list()\n",
        "      input_post = torch.FloatTensor([input_post]).to(device)\n",
        "\n",
        "      input_context=muril.GetFeatures([context]).iloc[0].to_list()\n",
        "      input_context = torch.FloatTensor([input_context]).to(device)\n",
        "\n",
        "      logits = model(input_post, input_context,post_context=True)\n",
        "\n",
        "    if post!=\"\" and context!=\"\" and text!=\"\":\n",
        "\n",
        "      input_post=muril.GetFeatures([post]).iloc[0].to_list()\n",
        "      input_post = torch.Tensor([input_post]).to(device)\n",
        "\n",
        "      input_context=muril.GetFeatures([context]).iloc[0].to_list()\n",
        "      input_context = torch.Tensor([input_context]).to(device)\n",
        "\n",
        "      input_text=muril.GetFeatures([text]).iloc[0].to_list()\n",
        "      input_text = torch.Tensor([input_text]).to(device)\n",
        "\n",
        "      logits = model(input_post, input_context,input_text, post_context_text=True)\n",
        "\n",
        "    y_pred = torch.argmax(logits, dim=-1).item()\n",
        "\n",
        "    print(logits, y_pred, label)\n",
        "\n",
        "    predictions.append(y_pred)\n",
        "\n",
        "    labels.append(label)\n",
        "\n",
        "  print(\"Accuracy: {}\".format(accuracy_score(predictions, labels)))\n",
        "  print(\"F1 Score: {}\".format(f1_score(predictions, labels)))"
      ]
    },
    {
      "cell_type": "code",
      "execution_count": null,
      "metadata": {},
      "outputs": [],
      "source": [
        "import pickle\n",
        "\n",
        "with open('Muril_1e-4.pkl', 'wb') as f:\n",
        "  pickle.dump(predictions, f)"
      ]
    }
  ],
  "metadata": {
    "colab": {
      "collapsed_sections": [],
      "name": "V2- Hierarchial Modelling.ipynb",
      "provenance": []
    },
    "kernelspec": {
      "display_name": "Python 3",
      "name": "python3"
    },
    "language_info": {
      "codemirror_mode": {
        "name": "ipython",
        "version": 3
      },
      "file_extension": ".py",
      "mimetype": "text/x-python",
      "name": "python",
      "nbconvert_exporter": "python",
      "pygments_lexer": "ipython3",
      "version": "3.8.12"
    }
  },
  "nbformat": 4,
  "nbformat_minor": 0
}
